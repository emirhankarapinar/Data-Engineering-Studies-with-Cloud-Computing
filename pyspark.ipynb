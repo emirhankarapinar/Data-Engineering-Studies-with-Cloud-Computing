{
  "nbformat": 4,
  "nbformat_minor": 0,
  "metadata": {
    "colab": {
      "provenance": []
    },
    "kernelspec": {
      "name": "python3",
      "display_name": "Python 3"
    },
    "language_info": {
      "name": "python"
    }
  },
  "cells": [
    {
      "cell_type": "markdown",
      "source": [
        "**PYSPARK İLE VERİ ANALİZİ ÖRNEĞİ**"
      ],
      "metadata": {
        "id": "EN8id1zpLiB8"
      }
    },
    {
      "cell_type": "code",
      "source": [
        "pip install pyspark"
      ],
      "metadata": {
        "colab": {
          "base_uri": "https://localhost:8080/"
        },
        "id": "_kX4qFr8LoVG",
        "outputId": "859a59a6-2198-4753-b416-1c21ae73a3b1"
      },
      "execution_count": 1,
      "outputs": [
        {
          "output_type": "stream",
          "name": "stdout",
          "text": [
            "Requirement already satisfied: pyspark in /usr/local/lib/python3.10/dist-packages (3.5.3)\n",
            "Requirement already satisfied: py4j==0.10.9.7 in /usr/local/lib/python3.10/dist-packages (from pyspark) (0.10.9.7)\n"
          ]
        }
      ]
    },
    {
      "cell_type": "code",
      "source": [
        "from pyspark.sql import SparkSession\n",
        "from pyspark.sql.functions import col, sum as _sum, count, avg, when\n",
        "from pyspark.ml.feature import StringIndexer"
      ],
      "metadata": {
        "id": "cIiPIlaQRyUa"
      },
      "execution_count": 3,
      "outputs": []
    },
    {
      "cell_type": "code",
      "source": [
        "spark=SparkSession.builder \\\n",
        ".appName(\"Electric Vehicle Population Data\") \\\n",
        ".config(\"spark.some.config.option\",\"some-value\") \\\n",
        ".getOrCreate()"
      ],
      "metadata": {
        "id": "XAD98FxKS4Kb"
      },
      "execution_count": 4,
      "outputs": []
    },
    {
      "cell_type": "code",
      "source": [
        "data=spark.read.csv(\"Electric_Vehicle_Population_Data.csv\",header=True, inferSchema=True)"
      ],
      "metadata": {
        "id": "Jfah2Z2tT0I_"
      },
      "execution_count": 6,
      "outputs": []
    },
    {
      "cell_type": "code",
      "source": [
        "data.show()"
      ],
      "metadata": {
        "colab": {
          "base_uri": "https://localhost:8080/"
        },
        "id": "u82Z042AUOze",
        "outputId": "4c481bf9-f333-4ac8-b39a-08c3010d7dd9"
      },
      "execution_count": 7,
      "outputs": [
        {
          "output_type": "stream",
          "name": "stdout",
          "text": [
            "+----------+---------+------------+-----+-----------+----------+---------+----------+---------------------+-------------------------------------------------+--------------+---------+--------------------+--------------+--------------------+--------------------+-----------------+\n",
            "|VIN (1-10)|   County|        City|State|Postal Code|Model Year|     Make|     Model|Electric Vehicle Type|Clean Alternative Fuel Vehicle (CAFV) Eligibility|Electric Range|Base MSRP|Legislative District|DOL Vehicle ID|    Vehicle Location|    Electric Utility|2020 Census Tract|\n",
            "+----------+---------+------------+-----+-----------+----------+---------+----------+---------------------+-------------------------------------------------+--------------+---------+--------------------+--------------+--------------------+--------------------+-----------------+\n",
            "|5UXTA6C0XM|   Kitsap|     Seabeck|   WA|      98380|      2021|      BMW|        X5| Plug-in Hybrid El...|                             Clean Alternative...|            30|        0|                  35|     267929112|POINT (-122.87283...|PUGET SOUND ENERG...|      53035091301|\n",
            "|5YJ3E1EB1J|   Kitsap|     Poulsbo|   WA|      98370|      2018|    TESLA|   MODEL 3| Battery Electric ...|                             Clean Alternative...|           215|        0|                  23|     475911439|POINT (-122.63688...|PUGET SOUND ENERG...|      53035091100|\n",
            "|WP0AD2A73G|Snohomish|     Bothell|   WA|      98012|      2016|  PORSCHE|  PANAMERA| Plug-in Hybrid El...|                             Not eligible due ...|            15|        0|                   1|     101971278|POINT (-122.20614...|PUGET SOUND ENERG...|      53061052009|\n",
            "|5YJ3E1EB5J|   Kitsap|   Bremerton|   WA|      98310|      2018|    TESLA|   MODEL 3| Battery Electric ...|                             Clean Alternative...|           215|        0|                  23|     474363746|POINT (-122.62318...|PUGET SOUND ENERG...|      53035080200|\n",
            "|1N4AZ1CP3K|     King|     Redmond|   WA|      98052|      2019|   NISSAN|      LEAF| Battery Electric ...|                             Clean Alternative...|           150|        0|                  45|     476346482|POINT (-122.13158...|PUGET SOUND ENERG...|      53033032323|\n",
            "|3FA6P0PU5F|Snohomish|     Bothell|   WA|      98012|      2015|     FORD|    FUSION| Plug-in Hybrid El...|                             Not eligible due ...|            19|        0|                  21|       9620047|POINT (-122.20614...|PUGET SOUND ENERG...|      53061041704|\n",
            "|5YJYGDEEXL|     King|      Renton|   WA|      98055|      2020|    TESLA|   MODEL Y| Battery Electric ...|                             Clean Alternative...|           291|        0|                  11|     124565731|POINT (-122.20033...|PUGET SOUND ENERG...|      53033025805|\n",
            "|5UXTS1C06M|     King|     Seattle|   WA|      98107|      2021|      BMW|        X3| Plug-in Hybrid El...|                             Not eligible due ...|            17|        0|                  36|     135327104|POINT (-122.38591...|CITY OF SEATTLE -...|      53033004702|\n",
            "|1N4AZ0CP0F|     King|    Bellevue|   WA|      98007|      2015|   NISSAN|      LEAF| Battery Electric ...|                             Clean Alternative...|            84|        0|                  48|     105509778|POINT (-122.14367...|PUGET SOUND ENERG...|      53033023300|\n",
            "|5YJSA1E20H|     King|     Seattle|   WA|      98125|      2017|    TESLA|   MODEL S| Battery Electric ...|                             Clean Alternative...|           210|        0|                  46|     348605603|POINT (-122.30253...|CITY OF SEATTLE -...|      53033000900|\n",
            "|1G1FX6S03H|   Kitsap|Port Orchard|   WA|      98366|      2017|CHEVROLET|   BOLT EV| Battery Electric ...|                             Clean Alternative...|           238|        0|                  26|     176855283|POINT (-122.63847...|PUGET SOUND ENERG...|      53035092200|\n",
            "|5YJ3E1EA5K|Snohomish|    Lynnwood|   WA|      98087|      2019|    TESLA|   MODEL 3| Battery Electric ...|                             Clean Alternative...|           220|        0|                  21|     110038288|POINT (-122.27336...|PUGET SOUND ENERG...|      53061041812|\n",
            "|JTMAB3FV5R|   Kitsap|     Poulsbo|   WA|      98370|      2024|   TOYOTA|RAV4 PRIME| Plug-in Hybrid El...|                             Clean Alternative...|            42|        0|                  23|     271853067|POINT (-122.63688...|PUGET SOUND ENERG...|      53035090502|\n",
            "|5YJSA1DPXC| Thurston|     Olympia|   WA|      98502|      2012|    TESLA|   MODEL S| Battery Electric ...|                             Clean Alternative...|           265|    59900|                  22|     188634442|POINT (-122.92333...|PUGET SOUND ENERG...|      53067010600|\n",
            "|YV4H60LF5R|   Yakima|      Yakima|   WA|      98908|      2024|    VOLVO|      XC90| Plug-in Hybrid El...|                             Clean Alternative...|            32|        0|                  14|     267393759|POINT (-120.61106...|          PACIFICORP|      53077000402|\n",
            "|5YJYGDEF8L|Snohomish|     Edmonds|   WA|      98026|      2020|    TESLA|   MODEL Y| Battery Electric ...|                             Clean Alternative...|           291|        0|                  21|     112172084|POINT (-122.33894...|PUGET SOUND ENERG...|      53061050101|\n",
            "|5YJ3E1EA6L|     King|      Duvall|   WA|      98019|      2020|    TESLA|   MODEL 3| Battery Electric ...|                             Clean Alternative...|           266|        0|                  45|     107653255|POINT (-121.95637...|PUGET SOUND ENERG...|      53033032401|\n",
            "|1C4RJXN64R| Thurston|     Olympia|   WA|      98502|      2024|     JEEP|  WRANGLER| Plug-in Hybrid El...|                             Not eligible due ...|            21|        0|                  22|     270975064|POINT (-122.92333...|PUGET SOUND ENERG...|      53067011100|\n",
            "|5YJSA1H28F|     King|     Bothell|   WA|      98011|      2015|    TESLA|   MODEL S| Battery Electric ...|                             Clean Alternative...|           208|        0|                   1|     162167414|POINT (-122.20140...|PUGET SOUND ENERG...|      53033021803|\n",
            "|5YJ3E1EB7K|     King|     Seattle|   WA|      98115|      2019|    TESLA|   MODEL 3| Battery Electric ...|                             Clean Alternative...|           220|        0|                  46|     305583925|POINT (-122.30082...|CITY OF SEATTLE -...|      53033002000|\n",
            "+----------+---------+------------+-----+-----------+----------+---------+----------+---------------------+-------------------------------------------------+--------------+---------+--------------------+--------------+--------------------+--------------------+-----------------+\n",
            "only showing top 20 rows\n",
            "\n"
          ]
        }
      ]
    },
    {
      "cell_type": "code",
      "source": [
        "data.printSchema()"
      ],
      "metadata": {
        "colab": {
          "base_uri": "https://localhost:8080/"
        },
        "id": "jY_t_IRCUkR7",
        "outputId": "a99d7031-3a7d-49d6-ef21-0693015b8536"
      },
      "execution_count": 8,
      "outputs": [
        {
          "output_type": "stream",
          "name": "stdout",
          "text": [
            "root\n",
            " |-- VIN (1-10): string (nullable = true)\n",
            " |-- County: string (nullable = true)\n",
            " |-- City: string (nullable = true)\n",
            " |-- State: string (nullable = true)\n",
            " |-- Postal Code: integer (nullable = true)\n",
            " |-- Model Year: integer (nullable = true)\n",
            " |-- Make: string (nullable = true)\n",
            " |-- Model: string (nullable = true)\n",
            " |-- Electric Vehicle Type: string (nullable = true)\n",
            " |-- Clean Alternative Fuel Vehicle (CAFV) Eligibility: string (nullable = true)\n",
            " |-- Electric Range: integer (nullable = true)\n",
            " |-- Base MSRP: integer (nullable = true)\n",
            " |-- Legislative District: integer (nullable = true)\n",
            " |-- DOL Vehicle ID: integer (nullable = true)\n",
            " |-- Vehicle Location: string (nullable = true)\n",
            " |-- Electric Utility: string (nullable = true)\n",
            " |-- 2020 Census Tract: long (nullable = true)\n",
            "\n"
          ]
        }
      ]
    },
    {
      "cell_type": "code",
      "source": [
        "null_counts=data.select([_sum(col(c).isNull().cast(\"int\")).alias(c) for c in data.columns])\n",
        "null_counts.show()"
      ],
      "metadata": {
        "colab": {
          "base_uri": "https://localhost:8080/"
        },
        "id": "NuLfWnkMWW7f",
        "outputId": "4d2a66df-b679-4822-b3f0-5460515f19b8"
      },
      "execution_count": 9,
      "outputs": [
        {
          "output_type": "stream",
          "name": "stdout",
          "text": [
            "+----------+------+----+-----+-----------+----------+----+-----+---------------------+-------------------------------------------------+--------------+---------+--------------------+--------------+----------------+----------------+-----------------+\n",
            "|VIN (1-10)|County|City|State|Postal Code|Model Year|Make|Model|Electric Vehicle Type|Clean Alternative Fuel Vehicle (CAFV) Eligibility|Electric Range|Base MSRP|Legislative District|DOL Vehicle ID|Vehicle Location|Electric Utility|2020 Census Tract|\n",
            "+----------+------+----+-----+-----------+----------+----+-----+---------------------+-------------------------------------------------+--------------+---------+--------------------+--------------+----------------+----------------+-----------------+\n",
            "|         0|     4|   4|    0|          4|         0|   0|    0|                    0|                                                0|             5|        5|                 445|             0|              10|               4|                4|\n",
            "+----------+------+----+-----+-----------+----------+----+-----+---------------------+-------------------------------------------------+--------------+---------+--------------------+--------------+----------------+----------------+-----------------+\n",
            "\n"
          ]
        }
      ]
    },
    {
      "cell_type": "code",
      "source": [
        "columns_to_drop=['County','City','Postal Code','Electric Utility','2020 Census Tract','Electric Range']\n",
        "data=data.na.drop(subset=columns_to_drop).drop('Legislative District')"
      ],
      "metadata": {
        "id": "nSGfd3f9XP8s"
      },
      "execution_count": 10,
      "outputs": []
    },
    {
      "cell_type": "code",
      "source": [
        "data.show()"
      ],
      "metadata": {
        "colab": {
          "base_uri": "https://localhost:8080/"
        },
        "id": "poBb7YmbX630",
        "outputId": "00cc02d1-ab51-4ff3-b2ea-6b459a03468e"
      },
      "execution_count": 11,
      "outputs": [
        {
          "output_type": "stream",
          "name": "stdout",
          "text": [
            "+----------+---------+------------+-----+-----------+----------+---------+----------+---------------------+-------------------------------------------------+--------------+---------+--------------+--------------------+--------------------+-----------------+\n",
            "|VIN (1-10)|   County|        City|State|Postal Code|Model Year|     Make|     Model|Electric Vehicle Type|Clean Alternative Fuel Vehicle (CAFV) Eligibility|Electric Range|Base MSRP|DOL Vehicle ID|    Vehicle Location|    Electric Utility|2020 Census Tract|\n",
            "+----------+---------+------------+-----+-----------+----------+---------+----------+---------------------+-------------------------------------------------+--------------+---------+--------------+--------------------+--------------------+-----------------+\n",
            "|5UXTA6C0XM|   Kitsap|     Seabeck|   WA|      98380|      2021|      BMW|        X5| Plug-in Hybrid El...|                             Clean Alternative...|            30|        0|     267929112|POINT (-122.87283...|PUGET SOUND ENERG...|      53035091301|\n",
            "|5YJ3E1EB1J|   Kitsap|     Poulsbo|   WA|      98370|      2018|    TESLA|   MODEL 3| Battery Electric ...|                             Clean Alternative...|           215|        0|     475911439|POINT (-122.63688...|PUGET SOUND ENERG...|      53035091100|\n",
            "|WP0AD2A73G|Snohomish|     Bothell|   WA|      98012|      2016|  PORSCHE|  PANAMERA| Plug-in Hybrid El...|                             Not eligible due ...|            15|        0|     101971278|POINT (-122.20614...|PUGET SOUND ENERG...|      53061052009|\n",
            "|5YJ3E1EB5J|   Kitsap|   Bremerton|   WA|      98310|      2018|    TESLA|   MODEL 3| Battery Electric ...|                             Clean Alternative...|           215|        0|     474363746|POINT (-122.62318...|PUGET SOUND ENERG...|      53035080200|\n",
            "|1N4AZ1CP3K|     King|     Redmond|   WA|      98052|      2019|   NISSAN|      LEAF| Battery Electric ...|                             Clean Alternative...|           150|        0|     476346482|POINT (-122.13158...|PUGET SOUND ENERG...|      53033032323|\n",
            "|3FA6P0PU5F|Snohomish|     Bothell|   WA|      98012|      2015|     FORD|    FUSION| Plug-in Hybrid El...|                             Not eligible due ...|            19|        0|       9620047|POINT (-122.20614...|PUGET SOUND ENERG...|      53061041704|\n",
            "|5YJYGDEEXL|     King|      Renton|   WA|      98055|      2020|    TESLA|   MODEL Y| Battery Electric ...|                             Clean Alternative...|           291|        0|     124565731|POINT (-122.20033...|PUGET SOUND ENERG...|      53033025805|\n",
            "|5UXTS1C06M|     King|     Seattle|   WA|      98107|      2021|      BMW|        X3| Plug-in Hybrid El...|                             Not eligible due ...|            17|        0|     135327104|POINT (-122.38591...|CITY OF SEATTLE -...|      53033004702|\n",
            "|1N4AZ0CP0F|     King|    Bellevue|   WA|      98007|      2015|   NISSAN|      LEAF| Battery Electric ...|                             Clean Alternative...|            84|        0|     105509778|POINT (-122.14367...|PUGET SOUND ENERG...|      53033023300|\n",
            "|5YJSA1E20H|     King|     Seattle|   WA|      98125|      2017|    TESLA|   MODEL S| Battery Electric ...|                             Clean Alternative...|           210|        0|     348605603|POINT (-122.30253...|CITY OF SEATTLE -...|      53033000900|\n",
            "|1G1FX6S03H|   Kitsap|Port Orchard|   WA|      98366|      2017|CHEVROLET|   BOLT EV| Battery Electric ...|                             Clean Alternative...|           238|        0|     176855283|POINT (-122.63847...|PUGET SOUND ENERG...|      53035092200|\n",
            "|5YJ3E1EA5K|Snohomish|    Lynnwood|   WA|      98087|      2019|    TESLA|   MODEL 3| Battery Electric ...|                             Clean Alternative...|           220|        0|     110038288|POINT (-122.27336...|PUGET SOUND ENERG...|      53061041812|\n",
            "|JTMAB3FV5R|   Kitsap|     Poulsbo|   WA|      98370|      2024|   TOYOTA|RAV4 PRIME| Plug-in Hybrid El...|                             Clean Alternative...|            42|        0|     271853067|POINT (-122.63688...|PUGET SOUND ENERG...|      53035090502|\n",
            "|5YJSA1DPXC| Thurston|     Olympia|   WA|      98502|      2012|    TESLA|   MODEL S| Battery Electric ...|                             Clean Alternative...|           265|    59900|     188634442|POINT (-122.92333...|PUGET SOUND ENERG...|      53067010600|\n",
            "|YV4H60LF5R|   Yakima|      Yakima|   WA|      98908|      2024|    VOLVO|      XC90| Plug-in Hybrid El...|                             Clean Alternative...|            32|        0|     267393759|POINT (-120.61106...|          PACIFICORP|      53077000402|\n",
            "|5YJYGDEF8L|Snohomish|     Edmonds|   WA|      98026|      2020|    TESLA|   MODEL Y| Battery Electric ...|                             Clean Alternative...|           291|        0|     112172084|POINT (-122.33894...|PUGET SOUND ENERG...|      53061050101|\n",
            "|5YJ3E1EA6L|     King|      Duvall|   WA|      98019|      2020|    TESLA|   MODEL 3| Battery Electric ...|                             Clean Alternative...|           266|        0|     107653255|POINT (-121.95637...|PUGET SOUND ENERG...|      53033032401|\n",
            "|1C4RJXN64R| Thurston|     Olympia|   WA|      98502|      2024|     JEEP|  WRANGLER| Plug-in Hybrid El...|                             Not eligible due ...|            21|        0|     270975064|POINT (-122.92333...|PUGET SOUND ENERG...|      53067011100|\n",
            "|5YJSA1H28F|     King|     Bothell|   WA|      98011|      2015|    TESLA|   MODEL S| Battery Electric ...|                             Clean Alternative...|           208|        0|     162167414|POINT (-122.20140...|PUGET SOUND ENERG...|      53033021803|\n",
            "|5YJ3E1EB7K|     King|     Seattle|   WA|      98115|      2019|    TESLA|   MODEL 3| Battery Electric ...|                             Clean Alternative...|           220|        0|     305583925|POINT (-122.30082...|CITY OF SEATTLE -...|      53033002000|\n",
            "+----------+---------+------------+-----+-----------+----------+---------+----------+---------------------+-------------------------------------------------+--------------+---------+--------------+--------------------+--------------------+-----------------+\n",
            "only showing top 20 rows\n",
            "\n"
          ]
        }
      ]
    },
    {
      "cell_type": "code",
      "source": [
        "data=data.na.fill({'Vehicle Location':'0'})\n",
        "data.show()"
      ],
      "metadata": {
        "colab": {
          "base_uri": "https://localhost:8080/"
        },
        "id": "omkb-CvwYRHA",
        "outputId": "f66ed53c-e94f-42d7-a1be-8ba583f4509a"
      },
      "execution_count": 12,
      "outputs": [
        {
          "output_type": "stream",
          "name": "stdout",
          "text": [
            "+----------+---------+------------+-----+-----------+----------+---------+----------+---------------------+-------------------------------------------------+--------------+---------+--------------+--------------------+--------------------+-----------------+\n",
            "|VIN (1-10)|   County|        City|State|Postal Code|Model Year|     Make|     Model|Electric Vehicle Type|Clean Alternative Fuel Vehicle (CAFV) Eligibility|Electric Range|Base MSRP|DOL Vehicle ID|    Vehicle Location|    Electric Utility|2020 Census Tract|\n",
            "+----------+---------+------------+-----+-----------+----------+---------+----------+---------------------+-------------------------------------------------+--------------+---------+--------------+--------------------+--------------------+-----------------+\n",
            "|5UXTA6C0XM|   Kitsap|     Seabeck|   WA|      98380|      2021|      BMW|        X5| Plug-in Hybrid El...|                             Clean Alternative...|            30|        0|     267929112|POINT (-122.87283...|PUGET SOUND ENERG...|      53035091301|\n",
            "|5YJ3E1EB1J|   Kitsap|     Poulsbo|   WA|      98370|      2018|    TESLA|   MODEL 3| Battery Electric ...|                             Clean Alternative...|           215|        0|     475911439|POINT (-122.63688...|PUGET SOUND ENERG...|      53035091100|\n",
            "|WP0AD2A73G|Snohomish|     Bothell|   WA|      98012|      2016|  PORSCHE|  PANAMERA| Plug-in Hybrid El...|                             Not eligible due ...|            15|        0|     101971278|POINT (-122.20614...|PUGET SOUND ENERG...|      53061052009|\n",
            "|5YJ3E1EB5J|   Kitsap|   Bremerton|   WA|      98310|      2018|    TESLA|   MODEL 3| Battery Electric ...|                             Clean Alternative...|           215|        0|     474363746|POINT (-122.62318...|PUGET SOUND ENERG...|      53035080200|\n",
            "|1N4AZ1CP3K|     King|     Redmond|   WA|      98052|      2019|   NISSAN|      LEAF| Battery Electric ...|                             Clean Alternative...|           150|        0|     476346482|POINT (-122.13158...|PUGET SOUND ENERG...|      53033032323|\n",
            "|3FA6P0PU5F|Snohomish|     Bothell|   WA|      98012|      2015|     FORD|    FUSION| Plug-in Hybrid El...|                             Not eligible due ...|            19|        0|       9620047|POINT (-122.20614...|PUGET SOUND ENERG...|      53061041704|\n",
            "|5YJYGDEEXL|     King|      Renton|   WA|      98055|      2020|    TESLA|   MODEL Y| Battery Electric ...|                             Clean Alternative...|           291|        0|     124565731|POINT (-122.20033...|PUGET SOUND ENERG...|      53033025805|\n",
            "|5UXTS1C06M|     King|     Seattle|   WA|      98107|      2021|      BMW|        X3| Plug-in Hybrid El...|                             Not eligible due ...|            17|        0|     135327104|POINT (-122.38591...|CITY OF SEATTLE -...|      53033004702|\n",
            "|1N4AZ0CP0F|     King|    Bellevue|   WA|      98007|      2015|   NISSAN|      LEAF| Battery Electric ...|                             Clean Alternative...|            84|        0|     105509778|POINT (-122.14367...|PUGET SOUND ENERG...|      53033023300|\n",
            "|5YJSA1E20H|     King|     Seattle|   WA|      98125|      2017|    TESLA|   MODEL S| Battery Electric ...|                             Clean Alternative...|           210|        0|     348605603|POINT (-122.30253...|CITY OF SEATTLE -...|      53033000900|\n",
            "|1G1FX6S03H|   Kitsap|Port Orchard|   WA|      98366|      2017|CHEVROLET|   BOLT EV| Battery Electric ...|                             Clean Alternative...|           238|        0|     176855283|POINT (-122.63847...|PUGET SOUND ENERG...|      53035092200|\n",
            "|5YJ3E1EA5K|Snohomish|    Lynnwood|   WA|      98087|      2019|    TESLA|   MODEL 3| Battery Electric ...|                             Clean Alternative...|           220|        0|     110038288|POINT (-122.27336...|PUGET SOUND ENERG...|      53061041812|\n",
            "|JTMAB3FV5R|   Kitsap|     Poulsbo|   WA|      98370|      2024|   TOYOTA|RAV4 PRIME| Plug-in Hybrid El...|                             Clean Alternative...|            42|        0|     271853067|POINT (-122.63688...|PUGET SOUND ENERG...|      53035090502|\n",
            "|5YJSA1DPXC| Thurston|     Olympia|   WA|      98502|      2012|    TESLA|   MODEL S| Battery Electric ...|                             Clean Alternative...|           265|    59900|     188634442|POINT (-122.92333...|PUGET SOUND ENERG...|      53067010600|\n",
            "|YV4H60LF5R|   Yakima|      Yakima|   WA|      98908|      2024|    VOLVO|      XC90| Plug-in Hybrid El...|                             Clean Alternative...|            32|        0|     267393759|POINT (-120.61106...|          PACIFICORP|      53077000402|\n",
            "|5YJYGDEF8L|Snohomish|     Edmonds|   WA|      98026|      2020|    TESLA|   MODEL Y| Battery Electric ...|                             Clean Alternative...|           291|        0|     112172084|POINT (-122.33894...|PUGET SOUND ENERG...|      53061050101|\n",
            "|5YJ3E1EA6L|     King|      Duvall|   WA|      98019|      2020|    TESLA|   MODEL 3| Battery Electric ...|                             Clean Alternative...|           266|        0|     107653255|POINT (-121.95637...|PUGET SOUND ENERG...|      53033032401|\n",
            "|1C4RJXN64R| Thurston|     Olympia|   WA|      98502|      2024|     JEEP|  WRANGLER| Plug-in Hybrid El...|                             Not eligible due ...|            21|        0|     270975064|POINT (-122.92333...|PUGET SOUND ENERG...|      53067011100|\n",
            "|5YJSA1H28F|     King|     Bothell|   WA|      98011|      2015|    TESLA|   MODEL S| Battery Electric ...|                             Clean Alternative...|           208|        0|     162167414|POINT (-122.20140...|PUGET SOUND ENERG...|      53033021803|\n",
            "|5YJ3E1EB7K|     King|     Seattle|   WA|      98115|      2019|    TESLA|   MODEL 3| Battery Electric ...|                             Clean Alternative...|           220|        0|     305583925|POINT (-122.30082...|CITY OF SEATTLE -...|      53033002000|\n",
            "+----------+---------+------------+-----+-----------+----------+---------+----------+---------------------+-------------------------------------------------+--------------+---------+--------------+--------------------+--------------------+-----------------+\n",
            "only showing top 20 rows\n",
            "\n"
          ]
        }
      ]
    },
    {
      "cell_type": "code",
      "source": [
        "data.groupBy(\"County\").agg(count(\"VIN (1-10)\").alias(\"EV_Count\")).orderBy(\"EV_Count\",ascending=False).show()"
      ],
      "metadata": {
        "colab": {
          "base_uri": "https://localhost:8080/"
        },
        "id": "7kr1fYunY3Co",
        "outputId": "d50c5087-48fd-4981-a4c5-4b9182d21c48"
      },
      "execution_count": 13,
      "outputs": [
        {
          "output_type": "stream",
          "name": "stdout",
          "text": [
            "+---------+--------+\n",
            "|   County|EV_Count|\n",
            "+---------+--------+\n",
            "|     King|  107111|\n",
            "|Snohomish|   25392|\n",
            "|   Pierce|   16677|\n",
            "|    Clark|   12537|\n",
            "| Thurston|    7719|\n",
            "|   Kitsap|    6998|\n",
            "|  Spokane|    5700|\n",
            "|  Whatcom|    5110|\n",
            "|   Benton|    2624|\n",
            "|   Skagit|    2366|\n",
            "|   Island|    2244|\n",
            "|   Yakima|    1284|\n",
            "|   Chelan|    1279|\n",
            "|  Clallam|    1253|\n",
            "|Jefferson|    1140|\n",
            "|  Cowlitz|    1097|\n",
            "| San Juan|    1039|\n",
            "|    Mason|     980|\n",
            "|    Lewis|     954|\n",
            "| Kittitas|     778|\n",
            "+---------+--------+\n",
            "only showing top 20 rows\n",
            "\n"
          ]
        }
      ]
    },
    {
      "cell_type": "code",
      "source": [
        "county_ev_counts=data.groupBy(\"County\").agg(count(\"VIN (1-10)\").alias(\"EV_Count\"))\n",
        "county_ev_counts_pd=county_ev_counts.toPandas()"
      ],
      "metadata": {
        "id": "YWJnysrQeu5o"
      },
      "execution_count": 14,
      "outputs": []
    },
    {
      "cell_type": "code",
      "source": [
        "county_ev_counts_pd_sorted=county_ev_counts_pd.sort_values(by='EV_Count',ascending=False).head(10)"
      ],
      "metadata": {
        "id": "JE_uVzpafRBd"
      },
      "execution_count": 16,
      "outputs": []
    },
    {
      "cell_type": "code",
      "source": [
        "from matplotlib import pyplot as plt"
      ],
      "metadata": {
        "id": "C63UBglLgqLw"
      },
      "execution_count": 18,
      "outputs": []
    },
    {
      "cell_type": "code",
      "source": [
        "plt.figure(figsize=(10,8))\n",
        "plt.bar(county_ev_counts_pd_sorted['County'],county_ev_counts_pd_sorted['EV_Count'],color='red')\n",
        "plt.xlabel('County')\n",
        "plt.ylabel('EV_Count')\n",
        "plt.title('Top 10')\n",
        "plt.show()"
      ],
      "metadata": {
        "colab": {
          "base_uri": "https://localhost:8080/",
          "height": 686
        },
        "id": "3Y-QHkr0fxZm",
        "outputId": "9d4b3a4e-24e9-45fc-e386-c6542c9035f2"
      },
      "execution_count": 20,
      "outputs": [
        {
          "output_type": "display_data",
          "data": {
            "text/plain": [
              "<Figure size 1000x800 with 1 Axes>"
            ],
            "image/png": "[encoded data removed]"
          },
          "metadata": {}
        }
      ]
    }
  ]
}